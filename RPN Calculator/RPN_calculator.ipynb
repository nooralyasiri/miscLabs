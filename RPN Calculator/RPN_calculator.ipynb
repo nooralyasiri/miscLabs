{
  "nbformat": 4,
  "nbformat_minor": 0,
  "metadata": {
    "colab": {
      "provenance": []
    },
    "kernelspec": {
      "name": "python3",
      "display_name": "Python 3"
    },
    "language_info": {
      "name": "python"
    }
  },
  "cells": [
    {
      "cell_type": "code",
      "execution_count": 3,
      "metadata": {
        "colab": {
          "base_uri": "https://localhost:8080/"
        },
        "id": "pmN-6D7VJs2d",
        "outputId": "cf1e5b38-9c6b-499b-a67c-6e0d66e7771b"
      },
      "outputs": [
        {
          "output_type": "stream",
          "name": "stdout",
          "text": [
            "['4', '*', '2', '+', '5']\n",
            "13\n",
            "['1', '*', '3', '+', '2']\n",
            "5\n",
            "['4', '*', '2', '+', '5', '/', '1', '*', '3', '+', '2']\n",
            "['(', '4', '*', '2', '+', '5', ')', '/', '(', '1', '*', '3', '+', '2', ')']\n",
            "2.6\n",
            "['2', '*', '4', '+', '8']\n",
            "16\n",
            "['4', '+', '2']\n",
            "6\n",
            "['2', '+', '4', '*', '8']\n",
            "34\n",
            "['3', '*', '2', '-', '11']\n",
            "-5\n"
          ]
        }
      ],
      "source": [
        "# ------------------------------------------------------------------------------\n",
        "\n",
        "# Noor Alyasiri\n",
        "# 1001558073\n",
        "# OS: MacOS (Run in Google Colab)\n",
        "\n",
        "# ------------------------------------------------------------------------------\n",
        "import os \n",
        "\n",
        "def calculator():\n",
        "  path = r\"/content/input_RPN.txt\"\n",
        "  assert os.path.isfile(path)\n",
        "  with open(\"input_RPN.txt\") as file_input:\n",
        "    for line in file_input:\n",
        "        new=line.rstrip() # removes new line \\n \n",
        "        li = list(new.split(\" \")) # gets rid of spaces \n",
        "        ints=[] #separate the integers from the operators\n",
        "        operation=[] #separate the operaters from the integers \n",
        "        for i in li:\n",
        "          if i.isdigit() == True:\n",
        "            ints.append(i) # appends integer values to ints[] list\n",
        "          else:\n",
        "            operation.append(i) # appends operators to operation[] list\n",
        "        if(len(operation)%2 !=0):\n",
        "          operation.insert(2,operation[-1])\n",
        "          operation.pop() # checks # of operators in order to place them appropriately \n",
        "        # elligible operators \n",
        "        add = \"+\"\n",
        "        sub = \"-\"\n",
        "        div = \"/\"\n",
        "        mult = \"*\"\n",
        "        lparen='('\n",
        "        rparen=')'\n",
        "        # iterators \n",
        "        j=0\n",
        "        k=1\n",
        "        length=len(operation)\n",
        "        i=0\n",
        "        #rearranges/inserts to the ints list by placing operators accordingly\n",
        "        while(i<length):\n",
        "          ints.insert(k,operation[j])\n",
        "          k+=2\n",
        "          j+=1\n",
        "          i+=1\n",
        "\n",
        "        index=0\n",
        "        # handles placement of division operator \n",
        "        for i in ints:\n",
        "          if i==div:\n",
        "            index = ints.index(div)\n",
        "        # handles placement of parantheses \n",
        "        for divide in operation:\n",
        "          if divide==div:\n",
        "            print(ints)\n",
        "            ints.append(rparen)\n",
        "            ints.insert(0,lparen)\n",
        "            index+=1\n",
        "            ints.insert(index,rparen)\n",
        "            index+=1\n",
        "            ints.insert(index+1,lparen)\n",
        "\n",
        "        print(ints)\n",
        "        #converts the values of int into strings in order to evaluate them\n",
        "        x=''\n",
        "        for val in ints:\n",
        "          x+=str(val)\n",
        "        ex=x\n",
        "        res=eval(ex)\n",
        "        print(res)\n",
        "        \n",
        "# call function\n",
        "calculator()"
      ]
    }
  ]
}